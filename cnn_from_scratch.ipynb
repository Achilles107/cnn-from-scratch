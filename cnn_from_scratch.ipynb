{
  "nbformat": 4,
  "nbformat_minor": 0,
  "metadata": {
    "colab": {
      "name": "cnn-from-scratch.ipynb",
      "provenance": []
    },
    "kernelspec": {
      "name": "python3",
      "display_name": "Python 3"
    },
    "accelerator": "GPU"
  },
  "cells": [
    {
      "cell_type": "code",
      "metadata": {
        "id": "udgtMVSWkEDj",
        "colab_type": "code",
        "colab": {}
      },
      "source": [
        "%reload_ext autoreload\n",
        "%autoreload 2\n",
        "%matplotlib inline"
      ],
      "execution_count": 0,
      "outputs": []
    },
    {
      "cell_type": "code",
      "metadata": {
        "id": "RcTynPiMkQr9",
        "colab_type": "code",
        "colab": {}
      },
      "source": [
        "from fastai.vision import *"
      ],
      "execution_count": 0,
      "outputs": []
    },
    {
      "cell_type": "code",
      "metadata": {
        "id": "tBZreVHbkZIs",
        "colab_type": "code",
        "outputId": "694d2d96-3216-4c04-9831-d72ed62e6515",
        "colab": {
          "base_uri": "https://localhost:8080/",
          "height": 34
        }
      },
      "source": [
        "path = untar_data(URLs.MNIST)"
      ],
      "execution_count": 0,
      "outputs": [
        {
          "output_type": "stream",
          "text": [
            "Downloading https://s3.amazonaws.com/fast-ai-imageclas/mnist_png\n"
          ],
          "name": "stdout"
        },
        {
          "output_type": "display_data",
          "data": {
            "text/html": [
              ""
            ],
            "text/plain": [
              "<IPython.core.display.HTML object>"
            ]
          },
          "metadata": {
            "tags": []
          }
        }
      ]
    },
    {
      "cell_type": "code",
      "metadata": {
        "id": "DT0kygxukqLq",
        "colab_type": "code",
        "outputId": "fe815c5a-5e2d-4b31-e470-3c04e93c367c",
        "colab": {
          "base_uri": "https://localhost:8080/",
          "height": 51
        }
      },
      "source": [
        "path.ls()"
      ],
      "execution_count": 0,
      "outputs": [
        {
          "output_type": "execute_result",
          "data": {
            "text/plain": [
              "[PosixPath('/root/.fastai/data/mnist_png/training'),\n",
              " PosixPath('/root/.fastai/data/mnist_png/testing')]"
            ]
          },
          "metadata": {
            "tags": []
          },
          "execution_count": 4
        }
      ]
    },
    {
      "cell_type": "code",
      "metadata": {
        "id": "3aeai3f8kxL6",
        "colab_type": "code",
        "colab": {}
      },
      "source": [
        "il = ImageList.from_folder(path, convert_mode='L')"
      ],
      "execution_count": 0,
      "outputs": []
    },
    {
      "cell_type": "code",
      "metadata": {
        "id": "g1e1s4uSlSUc",
        "colab_type": "code",
        "outputId": "d2685303-8da4-4948-8c39-5ab7527457e6",
        "colab": {
          "base_uri": "https://localhost:8080/",
          "height": 34
        }
      },
      "source": [
        "il.items[0]"
      ],
      "execution_count": 0,
      "outputs": [
        {
          "output_type": "execute_result",
          "data": {
            "text/plain": [
              "PosixPath('/root/.fastai/data/mnist_png/training/6/27355.png')"
            ]
          },
          "metadata": {
            "tags": []
          },
          "execution_count": 6
        }
      ]
    },
    {
      "cell_type": "code",
      "metadata": {
        "id": "OnPbIaGUlXKU",
        "colab_type": "code",
        "outputId": "712c98c8-5cf2-4a5d-94c8-978cdc07a801",
        "colab": {
          "base_uri": "https://localhost:8080/",
          "height": 194
        }
      },
      "source": [
        "il[0].show()"
      ],
      "execution_count": 0,
      "outputs": [
        {
          "output_type": "display_data",
          "data": {
            "image/png": "[encoded data removed]",
            "text/plain": [
              "<Figure size 216x216 with 1 Axes>"
            ]
          },
          "metadata": {
            "tags": [],
            "needs_background": "light"
          }
        }
      ]
    },
    {
      "cell_type": "code",
      "metadata": {
        "id": "mgH4dIyplmZt",
        "colab_type": "code",
        "colab": {}
      },
      "source": [
        "defaults.cmap='binary'"
      ],
      "execution_count": 0,
      "outputs": []
    },
    {
      "cell_type": "code",
      "metadata": {
        "id": "FjUDAAIDlr-2",
        "colab_type": "code",
        "outputId": "b26eaed8-7e08-4e34-ec9f-6dcd7ea58b00",
        "colab": {
          "base_uri": "https://localhost:8080/",
          "height": 68
        }
      },
      "source": [
        "il"
      ],
      "execution_count": 0,
      "outputs": [
        {
          "output_type": "execute_result",
          "data": {
            "text/plain": [
              "ImageList (70000 items)\n",
              "Image (1, 28, 28),Image (1, 28, 28),Image (1, 28, 28),Image (1, 28, 28),Image (1, 28, 28)\n",
              "Path: /root/.fastai/data/mnist_png"
            ]
          },
          "metadata": {
            "tags": []
          },
          "execution_count": 14
        }
      ]
    },
    {
      "cell_type": "code",
      "metadata": {
        "id": "QzeyKqholuOe",
        "colab_type": "code",
        "colab": {}
      },
      "source": [
        "sd = il.split_by_folder(train='training', valid='testing')"
      ],
      "execution_count": 0,
      "outputs": []
    },
    {
      "cell_type": "code",
      "metadata": {
        "id": "HNfbSZRimEUg",
        "colab_type": "code",
        "outputId": "79c07877-a2c4-4125-99f3-da079f625093",
        "colab": {
          "base_uri": "https://localhost:8080/",
          "height": 204
        }
      },
      "source": [
        "sd"
      ],
      "execution_count": 0,
      "outputs": [
        {
          "output_type": "execute_result",
          "data": {
            "text/plain": [
              "ItemLists;\n",
              "\n",
              "Train: ImageList (60000 items)\n",
              "Image (1, 28, 28),Image (1, 28, 28),Image (1, 28, 28),Image (1, 28, 28),Image (1, 28, 28)\n",
              "Path: /root/.fastai/data/mnist_png;\n",
              "\n",
              "Valid: ImageList (10000 items)\n",
              "Image (1, 28, 28),Image (1, 28, 28),Image (1, 28, 28),Image (1, 28, 28),Image (1, 28, 28)\n",
              "Path: /root/.fastai/data/mnist_png;\n",
              "\n",
              "Test: None"
            ]
          },
          "metadata": {
            "tags": []
          },
          "execution_count": 16
        }
      ]
    },
    {
      "cell_type": "code",
      "metadata": {
        "id": "XS0g03BomFF-",
        "colab_type": "code",
        "outputId": "757962d0-3464-4425-a326-c9ea02e9da31",
        "colab": {
          "base_uri": "https://localhost:8080/",
          "height": 187
        }
      },
      "source": [
        "(path/'training').ls()"
      ],
      "execution_count": 0,
      "outputs": [
        {
          "output_type": "execute_result",
          "data": {
            "text/plain": [
              "[PosixPath('/root/.fastai/data/mnist_png/training/6'),\n",
              " PosixPath('/root/.fastai/data/mnist_png/training/5'),\n",
              " PosixPath('/root/.fastai/data/mnist_png/training/8'),\n",
              " PosixPath('/root/.fastai/data/mnist_png/training/4'),\n",
              " PosixPath('/root/.fastai/data/mnist_png/training/0'),\n",
              " PosixPath('/root/.fastai/data/mnist_png/training/3'),\n",
              " PosixPath('/root/.fastai/data/mnist_png/training/1'),\n",
              " PosixPath('/root/.fastai/data/mnist_png/training/2'),\n",
              " PosixPath('/root/.fastai/data/mnist_png/training/9'),\n",
              " PosixPath('/root/.fastai/data/mnist_png/training/7')]"
            ]
          },
          "metadata": {
            "tags": []
          },
          "execution_count": 17
        }
      ]
    },
    {
      "cell_type": "code",
      "metadata": {
        "id": "tS4wrwXEmQbp",
        "colab_type": "code",
        "colab": {}
      },
      "source": [
        "ll = sd.label_from_folder()"
      ],
      "execution_count": 0,
      "outputs": []
    },
    {
      "cell_type": "code",
      "metadata": {
        "id": "bQeBarFbmXfb",
        "colab_type": "code",
        "outputId": "82550e23-3b37-4738-e444-bd7f4a611471",
        "colab": {
          "base_uri": "https://localhost:8080/",
          "height": 306
        }
      },
      "source": [
        "ll"
      ],
      "execution_count": 0,
      "outputs": [
        {
          "output_type": "execute_result",
          "data": {
            "text/plain": [
              "LabelLists;\n",
              "\n",
              "Train: LabelList (60000 items)\n",
              "x: ImageList\n",
              "Image (1, 28, 28),Image (1, 28, 28),Image (1, 28, 28),Image (1, 28, 28),Image (1, 28, 28)\n",
              "y: CategoryList\n",
              "6,6,6,6,6\n",
              "Path: /root/.fastai/data/mnist_png;\n",
              "\n",
              "Valid: LabelList (10000 items)\n",
              "x: ImageList\n",
              "Image (1, 28, 28),Image (1, 28, 28),Image (1, 28, 28),Image (1, 28, 28),Image (1, 28, 28)\n",
              "y: CategoryList\n",
              "6,6,6,6,6\n",
              "Path: /root/.fastai/data/mnist_png;\n",
              "\n",
              "Test: None"
            ]
          },
          "metadata": {
            "tags": []
          },
          "execution_count": 19
        }
      ]
    },
    {
      "cell_type": "code",
      "metadata": {
        "id": "utyPW5WjmYBZ",
        "colab_type": "code",
        "colab": {}
      },
      "source": [
        "x,y = ll.train[0]"
      ],
      "execution_count": 0,
      "outputs": []
    },
    {
      "cell_type": "code",
      "metadata": {
        "id": "-tu2iu4rmlaC",
        "colab_type": "code",
        "outputId": "d852d602-704d-4b16-c917-086ae8e56a0b",
        "colab": {
          "base_uri": "https://localhost:8080/",
          "height": 211
        }
      },
      "source": [
        "x.show()\n",
        "print (x.shape, y)"
      ],
      "execution_count": 0,
      "outputs": [
        {
          "output_type": "stream",
          "text": [
            "torch.Size([1, 28, 28]) 6\n"
          ],
          "name": "stdout"
        },
        {
          "output_type": "display_data",
          "data": {
            "image/png": "[encoded data removed]",
            "text/plain": [
              "<Figure size 216x216 with 1 Axes>"
            ]
          },
          "metadata": {
            "tags": [],
            "needs_background": "light"
          }
        }
      ]
    },
    {
      "cell_type": "code",
      "metadata": {
        "id": "05FU-Du-mnDj",
        "colab_type": "code",
        "colab": {}
      },
      "source": [
        "tfms = ([*rand_pad(padding=3, size=28, mode='zeros')], [])"
      ],
      "execution_count": 0,
      "outputs": []
    },
    {
      "cell_type": "code",
      "metadata": {
        "id": "U19An0YWm4kE",
        "colab_type": "code",
        "colab": {}
      },
      "source": [
        "ll = ll.transform(tfms)"
      ],
      "execution_count": 0,
      "outputs": []
    },
    {
      "cell_type": "code",
      "metadata": {
        "id": "x_Tw8sJFm9VE",
        "colab_type": "code",
        "colab": {}
      },
      "source": [
        "bs = 128"
      ],
      "execution_count": 0,
      "outputs": []
    },
    {
      "cell_type": "code",
      "metadata": {
        "id": "LfWxWDFQm_vc",
        "colab_type": "code",
        "colab": {}
      },
      "source": [
        "data = ll.databunch(bs=bs).normalize()"
      ],
      "execution_count": 0,
      "outputs": []
    },
    {
      "cell_type": "code",
      "metadata": {
        "id": "r0bDAaeznJSF",
        "colab_type": "code",
        "colab": {}
      },
      "source": [
        "x,y =  data.train_ds[0]"
      ],
      "execution_count": 0,
      "outputs": []
    },
    {
      "cell_type": "code",
      "metadata": {
        "id": "4ePpFY_LnP5-",
        "colab_type": "code",
        "outputId": "afaf4385-c421-49ff-fd8f-e857666eb12e",
        "colab": {
          "base_uri": "https://localhost:8080/",
          "height": 211
        }
      },
      "source": [
        "x.show()\n",
        "print (x.shape, y)"
      ],
      "execution_count": 0,
      "outputs": [
        {
          "output_type": "stream",
          "text": [
            "torch.Size([1, 28, 28]) 6\n"
          ],
          "name": "stdout"
        },
        {
          "output_type": "display_data",
          "data": {
            "image/png": "[encoded data removed]",
            "text/plain": [
              "<Figure size 216x216 with 1 Axes>"
            ]
          },
          "metadata": {
            "tags": [],
            "needs_background": "light"
          }
        }
      ]
    },
    {
      "cell_type": "code",
      "metadata": {
        "id": "TO3amS7OnT3W",
        "colab_type": "code",
        "outputId": "7699e41e-05e2-4618-8763-9d9abc7487fa",
        "colab": {
          "base_uri": "https://localhost:8080/",
          "height": 411
        }
      },
      "source": [
        "def _plot(i,j,ax): data.train_ds[0][0].show(ax, cmap='gray')\n",
        "plot_multi(_plot, 3, 3, figsize=(7,7))"
      ],
      "execution_count": 0,
      "outputs": [
        {
          "output_type": "display_data",
          "data": {
            "image/png": "[encoded data removed]",
            "text/plain": [
              "<Figure size 504x504 with 9 Axes>"
            ]
          },
          "metadata": {
            "tags": [],
            "needs_background": "light"
          }
        }
      ]
    },
    {
      "cell_type": "code",
      "metadata": {
        "id": "xyKT5WAxnwJQ",
        "colab_type": "code",
        "outputId": "afa18a2c-e585-4110-8ec2-966edfebb5ff",
        "colab": {
          "base_uri": "https://localhost:8080/",
          "height": 34
        }
      },
      "source": [
        "xb, yb = data.one_batch()\n",
        "xb.shape, yb.shape"
      ],
      "execution_count": 0,
      "outputs": [
        {
          "output_type": "execute_result",
          "data": {
            "text/plain": [
              "(torch.Size([128, 1, 28, 28]), torch.Size([128]))"
            ]
          },
          "metadata": {
            "tags": []
          },
          "execution_count": 33
        }
      ]
    },
    {
      "cell_type": "code",
      "metadata": {
        "id": "DknpmHkGoBgZ",
        "colab_type": "code",
        "outputId": "caa527ad-18c9-425f-f4b5-5d748555d445",
        "colab": {
          "base_uri": "https://localhost:8080/",
          "height": 369
        }
      },
      "source": [
        "data.show_batch(rows=3, figsize=(5,5))"
      ],
      "execution_count": 0,
      "outputs": [
        {
          "output_type": "display_data",
          "data": {
            "image/png": "[encoded data removed]",
            "text/plain": [
              "<Figure size 360x360 with 9 Axes>"
            ]
          },
          "metadata": {
            "tags": [],
            "needs_background": "light"
          }
        }
      ]
    },
    {
      "cell_type": "markdown",
      "metadata": {
        "id": "mHKyg3StutSu",
        "colab_type": "text"
      },
      "source": [
        "**CNN from Scratch**"
      ]
    },
    {
      "cell_type": "code",
      "metadata": {
        "id": "y-ww7cOToT8j",
        "colab_type": "code",
        "colab": {}
      },
      "source": [
        "def conv(xi, xf): return nn.Conv2d(xi, xf, kernel_size=3, stride=2, padding=1)"
      ],
      "execution_count": 0,
      "outputs": []
    },
    {
      "cell_type": "code",
      "metadata": {
        "id": "18ODi9BPowQV",
        "colab_type": "code",
        "colab": {}
      },
      "source": [
        "model = nn.Sequential(\n",
        "    conv(1, 8),  # 14\n",
        "    nn.BatchNorm2d(8),\n",
        "    nn.ReLU(),\n",
        "    conv(8, 16), # 7\n",
        "    nn.BatchNorm2d(16),\n",
        "    nn.ReLU(),\n",
        "    conv(16, 32),  # 4\n",
        "    nn.BatchNorm2d(32),\n",
        "    nn.ReLU(),\n",
        "    conv(32, 16),  # 2\n",
        "    nn.BatchNorm2d(16),\n",
        "    nn.ReLU(),\n",
        "    conv(16, 10),  # 1\n",
        "    nn.BatchNorm2d(10),\n",
        "    Flatten() # remove 1x1 grid\n",
        "\n",
        ")"
      ],
      "execution_count": 0,
      "outputs": []
    },
    {
      "cell_type": "code",
      "metadata": {
        "id": "oAyGuodyqW1m",
        "colab_type": "code",
        "colab": {}
      },
      "source": [
        "learn = Learner(data, model, loss_func=nn.CrossEntropyLoss(), metrics=accuracy)"
      ],
      "execution_count": 0,
      "outputs": []
    },
    {
      "cell_type": "code",
      "metadata": {
        "id": "9i5yZWiYrA4X",
        "colab_type": "code",
        "outputId": "9925c09c-dbc6-4f93-ef58-b17511f77dfc",
        "colab": {
          "base_uri": "https://localhost:8080/",
          "height": 748
        }
      },
      "source": [
        "learn.summary()"
      ],
      "execution_count": 0,
      "outputs": [
        {
          "output_type": "execute_result",
          "data": {
            "text/plain": [
              "Sequential\n",
              "======================================================================\n",
              "Layer (type)         Output Shape         Param #    Trainable \n",
              "======================================================================\n",
              "Conv2d               [8, 14, 14]          80         True      \n",
              "______________________________________________________________________\n",
              "BatchNorm2d          [8, 14, 14]          16         True      \n",
              "______________________________________________________________________\n",
              "ReLU                 [8, 14, 14]          0          False     \n",
              "______________________________________________________________________\n",
              "Conv2d               [16, 7, 7]           1,168      True      \n",
              "______________________________________________________________________\n",
              "BatchNorm2d          [16, 7, 7]           32         True      \n",
              "______________________________________________________________________\n",
              "ReLU                 [16, 7, 7]           0          False     \n",
              "______________________________________________________________________\n",
              "Conv2d               [32, 4, 4]           4,640      True      \n",
              "______________________________________________________________________\n",
              "BatchNorm2d          [32, 4, 4]           64         True      \n",
              "______________________________________________________________________\n",
              "ReLU                 [32, 4, 4]           0          False     \n",
              "______________________________________________________________________\n",
              "Conv2d               [16, 2, 2]           4,624      True      \n",
              "______________________________________________________________________\n",
              "BatchNorm2d          [16, 2, 2]           32         True      \n",
              "______________________________________________________________________\n",
              "ReLU                 [16, 2, 2]           0          False     \n",
              "______________________________________________________________________\n",
              "Conv2d               [10, 1, 1]           1,450      True      \n",
              "______________________________________________________________________\n",
              "BatchNorm2d          [10, 1, 1]           20         True      \n",
              "______________________________________________________________________\n",
              "Flatten              [10]                 0          False     \n",
              "______________________________________________________________________\n",
              "\n",
              "Total params: 12,126\n",
              "Total trainable params: 12,126\n",
              "Total non-trainable params: 0\n",
              "Optimized with 'torch.optim.adam.Adam', betas=(0.9, 0.99)\n",
              "Using true weight decay as discussed in https://www.fast.ai/2018/07/02/adam-weight-decay/ \n",
              "Loss function : CrossEntropyLoss\n",
              "======================================================================\n",
              "Callbacks functions applied "
            ]
          },
          "metadata": {
            "tags": []
          },
          "execution_count": 48
        }
      ]
    },
    {
      "cell_type": "code",
      "metadata": {
        "id": "c9n-xUONrEGA",
        "colab_type": "code",
        "colab": {}
      },
      "source": [
        "xb = xb.cuda()"
      ],
      "execution_count": 0,
      "outputs": []
    },
    {
      "cell_type": "code",
      "metadata": {
        "id": "DFBpfl6ZrYay",
        "colab_type": "code",
        "outputId": "317e163a-3c22-4d24-f0de-fa4f5f32266d",
        "colab": {
          "base_uri": "https://localhost:8080/",
          "height": 34
        }
      },
      "source": [
        "model(xb).shape"
      ],
      "execution_count": 0,
      "outputs": [
        {
          "output_type": "execute_result",
          "data": {
            "text/plain": [
              "torch.Size([128, 10])"
            ]
          },
          "metadata": {
            "tags": []
          },
          "execution_count": 50
        }
      ]
    },
    {
      "cell_type": "code",
      "metadata": {
        "id": "aBuj5l_jrb9J",
        "colab_type": "code",
        "outputId": "16398d60-39cf-4d91-8273-3790b4460b88",
        "colab": {
          "base_uri": "https://localhost:8080/",
          "height": 112
        }
      },
      "source": [
        "learn.lr_find()"
      ],
      "execution_count": 0,
      "outputs": [
        {
          "output_type": "display_data",
          "data": {
            "text/html": [
              "\n",
              "    <div>\n",
              "        <style>\n",
              "            /* Turns off some styling */\n",
              "            progress {\n",
              "                /* gets rid of default border in Firefox and Opera. */\n",
              "                border: none;\n",
              "                /* Needs to be in here for Safari polyfill so background images work as expected. */\n",
              "                background-size: auto;\n",
              "            }\n",
              "            .progress-bar-interrupted, .progress-bar-interrupted::-webkit-progress-bar {\n",
              "                background: #F44336;\n",
              "            }\n",
              "        </style>\n",
              "      <progress value='0' class='' max='1' style='width:300px; height:20px; vertical-align: middle;'></progress>\n",
              "      0.00% [0/1 00:00<00:00]\n",
              "    </div>\n",
              "    \n",
              "<table border=\"1\" class=\"dataframe\">\n",
              "  <thead>\n",
              "    <tr style=\"text-align: left;\">\n",
              "      <th>epoch</th>\n",
              "      <th>train_loss</th>\n",
              "      <th>valid_loss</th>\n",
              "      <th>accuracy</th>\n",
              "      <th>time</th>\n",
              "    </tr>\n",
              "  </thead>\n",
              "  <tbody>\n",
              "  </tbody>\n",
              "</table><p>\n",
              "\n",
              "    <div>\n",
              "        <style>\n",
              "            /* Turns off some styling */\n",
              "            progress {\n",
              "                /* gets rid of default border in Firefox and Opera. */\n",
              "                border: none;\n",
              "                /* Needs to be in here for Safari polyfill so background images work as expected. */\n",
              "                background-size: auto;\n",
              "            }\n",
              "            .progress-bar-interrupted, .progress-bar-interrupted::-webkit-progress-bar {\n",
              "                background: #F44336;\n",
              "            }\n",
              "        </style>\n",
              "      <progress value='99' class='' max='468' style='width:300px; height:20px; vertical-align: middle;'></progress>\n",
              "      21.15% [99/468 00:07<00:26 1.6846]\n",
              "    </div>\n",
              "    "
            ],
            "text/plain": [
              "<IPython.core.display.HTML object>"
            ]
          },
          "metadata": {
            "tags": []
          }
        },
        {
          "output_type": "stream",
          "text": [
            "LR Finder is complete, type {learner_name}.recorder.plot() to see the graph.\n"
          ],
          "name": "stdout"
        }
      ]
    },
    {
      "cell_type": "code",
      "metadata": {
        "id": "0lzcFs7drmKS",
        "colab_type": "code",
        "outputId": "7a4a3740-74b3-4387-8bdf-027f8d23ba6d",
        "colab": {
          "base_uri": "https://localhost:8080/",
          "height": 279
        }
      },
      "source": [
        "learn.recorder.plot()"
      ],
      "execution_count": 0,
      "outputs": [
        {
          "output_type": "display_data",
          "data": {
            "image/png": "[encoded data removed]",
            "text/plain": [
              "<Figure size 432x288 with 1 Axes>"
            ]
          },
          "metadata": {
            "tags": [],
            "needs_background": "light"
          }
        }
      ]
    },
    {
      "cell_type": "code",
      "metadata": {
        "id": "Tk6orOgNrvm7",
        "colab_type": "code",
        "outputId": "60f291d4-761c-4d2a-dd0f-6944bea24932",
        "colab": {
          "base_uri": "https://localhost:8080/",
          "height": 142
        }
      },
      "source": [
        "learn.fit_one_cycle(3, max_lr=1e-01)"
      ],
      "execution_count": 0,
      "outputs": [
        {
          "output_type": "display_data",
          "data": {
            "text/html": [
              "<table border=\"1\" class=\"dataframe\">\n",
              "  <thead>\n",
              "    <tr style=\"text-align: left;\">\n",
              "      <th>epoch</th>\n",
              "      <th>train_loss</th>\n",
              "      <th>valid_loss</th>\n",
              "      <th>accuracy</th>\n",
              "      <th>time</th>\n",
              "    </tr>\n",
              "  </thead>\n",
              "  <tbody>\n",
              "    <tr>\n",
              "      <td>0</td>\n",
              "      <td>0.213133</td>\n",
              "      <td>0.305011</td>\n",
              "      <td>0.903400</td>\n",
              "      <td>00:35</td>\n",
              "    </tr>\n",
              "    <tr>\n",
              "      <td>1</td>\n",
              "      <td>0.129075</td>\n",
              "      <td>0.081421</td>\n",
              "      <td>0.973400</td>\n",
              "      <td>00:35</td>\n",
              "    </tr>\n",
              "    <tr>\n",
              "      <td>2</td>\n",
              "      <td>0.071601</td>\n",
              "      <td>0.038464</td>\n",
              "      <td>0.987600</td>\n",
              "      <td>00:35</td>\n",
              "    </tr>\n",
              "  </tbody>\n",
              "</table>"
            ],
            "text/plain": [
              "<IPython.core.display.HTML object>"
            ]
          },
          "metadata": {
            "tags": []
          }
        }
      ]
    },
    {
      "cell_type": "markdown",
      "metadata": {
        "id": "pBvyoXltvGjL",
        "colab_type": "text"
      },
      "source": [
        "**Refractor**"
      ]
    },
    {
      "cell_type": "code",
      "metadata": {
        "id": "Kk8ouHcdso6u",
        "colab_type": "code",
        "colab": {}
      },
      "source": [
        "def conv2(xi, xf): return conv_layer(xi, xf, stride=2)"
      ],
      "execution_count": 0,
      "outputs": []
    },
    {
      "cell_type": "code",
      "metadata": {
        "id": "__KZZHTQvjZi",
        "colab_type": "code",
        "colab": {}
      },
      "source": [
        "model = nn.Sequential(\n",
        "    conv2(1, 8),\n",
        "    conv2(8, 16),\n",
        "    conv2(16, 32),\n",
        "    conv2(32, 16),\n",
        "    conv2(16, 10),\n",
        "    Flatten()\n",
        "\n",
        ")"
      ],
      "execution_count": 0,
      "outputs": []
    },
    {
      "cell_type": "code",
      "metadata": {
        "id": "tYikJ1ijwdUA",
        "colab_type": "code",
        "colab": {}
      },
      "source": [
        "learn = Learner(data, model, loss_func=nn.CrossEntropyLoss(), metrics=accuracy)"
      ],
      "execution_count": 0,
      "outputs": []
    },
    {
      "cell_type": "code",
      "metadata": {
        "id": "WLsKEzH5yDh1",
        "colab_type": "code",
        "outputId": "3d02e63f-107a-485f-9471-7c689566f763",
        "colab": {
          "base_uri": "https://localhost:8080/",
          "height": 359
        }
      },
      "source": [
        "learn.fit_one_cycle(10, max_lr=1e-01)"
      ],
      "execution_count": 0,
      "outputs": [
        {
          "output_type": "display_data",
          "data": {
            "text/html": [
              "<table border=\"1\" class=\"dataframe\">\n",
              "  <thead>\n",
              "    <tr style=\"text-align: left;\">\n",
              "      <th>epoch</th>\n",
              "      <th>train_loss</th>\n",
              "      <th>valid_loss</th>\n",
              "      <th>accuracy</th>\n",
              "      <th>time</th>\n",
              "    </tr>\n",
              "  </thead>\n",
              "  <tbody>\n",
              "    <tr>\n",
              "      <td>0</td>\n",
              "      <td>0.240319</td>\n",
              "      <td>0.210711</td>\n",
              "      <td>0.932300</td>\n",
              "      <td>00:34</td>\n",
              "    </tr>\n",
              "    <tr>\n",
              "      <td>1</td>\n",
              "      <td>0.194917</td>\n",
              "      <td>0.154743</td>\n",
              "      <td>0.954500</td>\n",
              "      <td>00:35</td>\n",
              "    </tr>\n",
              "    <tr>\n",
              "      <td>2</td>\n",
              "      <td>0.174833</td>\n",
              "      <td>0.094594</td>\n",
              "      <td>0.970000</td>\n",
              "      <td>00:34</td>\n",
              "    </tr>\n",
              "    <tr>\n",
              "      <td>3</td>\n",
              "      <td>0.156374</td>\n",
              "      <td>0.105545</td>\n",
              "      <td>0.965300</td>\n",
              "      <td>00:34</td>\n",
              "    </tr>\n",
              "    <tr>\n",
              "      <td>4</td>\n",
              "      <td>0.122213</td>\n",
              "      <td>0.067279</td>\n",
              "      <td>0.978300</td>\n",
              "      <td>00:34</td>\n",
              "    </tr>\n",
              "    <tr>\n",
              "      <td>5</td>\n",
              "      <td>0.105731</td>\n",
              "      <td>0.062942</td>\n",
              "      <td>0.980800</td>\n",
              "      <td>00:35</td>\n",
              "    </tr>\n",
              "    <tr>\n",
              "      <td>6</td>\n",
              "      <td>0.088322</td>\n",
              "      <td>0.066470</td>\n",
              "      <td>0.979300</td>\n",
              "      <td>00:35</td>\n",
              "    </tr>\n",
              "    <tr>\n",
              "      <td>7</td>\n",
              "      <td>0.067151</td>\n",
              "      <td>0.035120</td>\n",
              "      <td>0.988700</td>\n",
              "      <td>00:35</td>\n",
              "    </tr>\n",
              "    <tr>\n",
              "      <td>8</td>\n",
              "      <td>0.050463</td>\n",
              "      <td>0.026284</td>\n",
              "      <td>0.991600</td>\n",
              "      <td>00:34</td>\n",
              "    </tr>\n",
              "    <tr>\n",
              "      <td>9</td>\n",
              "      <td>0.045596</td>\n",
              "      <td>0.025285</td>\n",
              "      <td>0.992000</td>\n",
              "      <td>00:35</td>\n",
              "    </tr>\n",
              "  </tbody>\n",
              "</table>"
            ],
            "text/plain": [
              "<IPython.core.display.HTML object>"
            ]
          },
          "metadata": {
            "tags": []
          }
        }
      ]
    },
    {
      "cell_type": "markdown",
      "metadata": {
        "id": "Ml-FCRwE09J0",
        "colab_type": "text"
      },
      "source": [
        "**RESNETs**"
      ]
    },
    {
      "cell_type": "code",
      "metadata": {
        "id": "GbNxqxM-zAVm",
        "colab_type": "code",
        "colab": {}
      },
      "source": [
        "class ResnetBlock(nn.Module):\n",
        "  def __init__(self, xf):\n",
        "    super.__init__()\n",
        "    self.conv1 = conv_layer(xf, xf)\n",
        "    self.conv2 = conv_layer(xf, xf)\n",
        "\n",
        "\n",
        "  def forward(self , x): return x + self.conv2(self.conv1(x))"
      ],
      "execution_count": 0,
      "outputs": []
    },
    {
      "cell_type": "code",
      "metadata": {
        "id": "20N4qYEM6guT",
        "colab_type": "code",
        "colab": {}
      },
      "source": [
        "model = nn.Sequential(\n",
        "    conv2(1, 8),\n",
        "    res_block(8),\n",
        "    conv2(8, 16),\n",
        "    res_block(16),\n",
        "    conv2(16, 32),\n",
        "    res_block(32),\n",
        "    conv2(32, 16),\n",
        "    res_block(16),\n",
        "    conv2(16, 10),\n",
        "    Flatten()\n",
        ")"
      ],
      "execution_count": 0,
      "outputs": []
    },
    {
      "cell_type": "code",
      "metadata": {
        "id": "cVzd88Uk8Uo4",
        "colab_type": "code",
        "colab": {}
      },
      "source": [
        "def conv_and_res(xi,xf): return nn.Sequential(conv2(xi, xf), res_block(xf))"
      ],
      "execution_count": 0,
      "outputs": []
    },
    {
      "cell_type": "code",
      "metadata": {
        "id": "DZc-7Eup8ofj",
        "colab_type": "code",
        "colab": {}
      },
      "source": [
        "model = nn.Sequential(\n",
        "    conv_and_res(1, 8),\n",
        "    conv_and_res(8, 16),\n",
        "    conv_and_res(16, 32),\n",
        "    conv_and_res(32, 16),\n",
        "    conv2(16, 10),\n",
        "    Flatten()\n",
        ")"
      ],
      "execution_count": 0,
      "outputs": []
    },
    {
      "cell_type": "code",
      "metadata": {
        "id": "ExJVcEv08qkD",
        "colab_type": "code",
        "colab": {}
      },
      "source": [
        "learn = Learner(data, model, loss_func=nn.CrossEntropyLoss(), metrics=accuracy)"
      ],
      "execution_count": 0,
      "outputs": []
    },
    {
      "cell_type": "code",
      "metadata": {
        "id": "9SVpjn5K81dE",
        "colab_type": "code",
        "outputId": "9a04dca9-7668-421c-bd6b-0a3f3f830683",
        "colab": {
          "base_uri": "https://localhost:8080/",
          "height": 112
        }
      },
      "source": [
        "learn.lr_find(end_lr=100)"
      ],
      "execution_count": 0,
      "outputs": [
        {
          "output_type": "display_data",
          "data": {
            "text/html": [
              "\n",
              "    <div>\n",
              "        <style>\n",
              "            /* Turns off some styling */\n",
              "            progress {\n",
              "                /* gets rid of default border in Firefox and Opera. */\n",
              "                border: none;\n",
              "                /* Needs to be in here for Safari polyfill so background images work as expected. */\n",
              "                background-size: auto;\n",
              "            }\n",
              "            .progress-bar-interrupted, .progress-bar-interrupted::-webkit-progress-bar {\n",
              "                background: #F44336;\n",
              "            }\n",
              "        </style>\n",
              "      <progress value='0' class='' max='1' style='width:300px; height:20px; vertical-align: middle;'></progress>\n",
              "      0.00% [0/1 00:00<00:00]\n",
              "    </div>\n",
              "    \n",
              "<table border=\"1\" class=\"dataframe\">\n",
              "  <thead>\n",
              "    <tr style=\"text-align: left;\">\n",
              "      <th>epoch</th>\n",
              "      <th>train_loss</th>\n",
              "      <th>valid_loss</th>\n",
              "      <th>accuracy</th>\n",
              "      <th>time</th>\n",
              "    </tr>\n",
              "  </thead>\n",
              "  <tbody>\n",
              "  </tbody>\n",
              "</table><p>\n",
              "\n",
              "    <div>\n",
              "        <style>\n",
              "            /* Turns off some styling */\n",
              "            progress {\n",
              "                /* gets rid of default border in Firefox and Opera. */\n",
              "                border: none;\n",
              "                /* Needs to be in here for Safari polyfill so background images work as expected. */\n",
              "                background-size: auto;\n",
              "            }\n",
              "            .progress-bar-interrupted, .progress-bar-interrupted::-webkit-progress-bar {\n",
              "                background: #F44336;\n",
              "            }\n",
              "        </style>\n",
              "      <progress value='99' class='' max='468' style='width:300px; height:20px; vertical-align: middle;'></progress>\n",
              "      21.15% [99/468 00:08<00:29 3.5191]\n",
              "    </div>\n",
              "    "
            ],
            "text/plain": [
              "<IPython.core.display.HTML object>"
            ]
          },
          "metadata": {
            "tags": []
          }
        },
        {
          "output_type": "stream",
          "text": [
            "LR Finder is complete, type {learner_name}.recorder.plot() to see the graph.\n"
          ],
          "name": "stdout"
        }
      ]
    },
    {
      "cell_type": "code",
      "metadata": {
        "id": "IOXPPN9q9EdW",
        "colab_type": "code",
        "outputId": "d2e57338-5b25-4cbb-e1fb-239d97daf9a8",
        "colab": {
          "base_uri": "https://localhost:8080/",
          "height": 279
        }
      },
      "source": [
        "learn.recorder.plot()"
      ],
      "execution_count": 0,
      "outputs": [
        {
          "output_type": "display_data",
          "data": {
            "image/png": "[encoded data removed]",
            "text/plain": [
              "<Figure size 432x288 with 1 Axes>"
            ]
          },
          "metadata": {
            "tags": [],
            "needs_background": "light"
          }
        }
      ]
    },
    {
      "cell_type": "code",
      "metadata": {
        "id": "5OWh_iih9Iw-",
        "colab_type": "code",
        "outputId": "dc5e95b6-a5d6-456f-bc8b-49ad767406ed",
        "colab": {
          "base_uri": "https://localhost:8080/",
          "height": 421
        }
      },
      "source": [
        "learn.fit_one_cycle(12, max_lr=(1e-01)/2)"
      ],
      "execution_count": 0,
      "outputs": [
        {
          "output_type": "display_data",
          "data": {
            "text/html": [
              "<table border=\"1\" class=\"dataframe\">\n",
              "  <thead>\n",
              "    <tr style=\"text-align: left;\">\n",
              "      <th>epoch</th>\n",
              "      <th>train_loss</th>\n",
              "      <th>valid_loss</th>\n",
              "      <th>accuracy</th>\n",
              "      <th>time</th>\n",
              "    </tr>\n",
              "  </thead>\n",
              "  <tbody>\n",
              "    <tr>\n",
              "      <td>0</td>\n",
              "      <td>0.199078</td>\n",
              "      <td>0.142954</td>\n",
              "      <td>0.957400</td>\n",
              "      <td>00:40</td>\n",
              "    </tr>\n",
              "    <tr>\n",
              "      <td>1</td>\n",
              "      <td>0.134318</td>\n",
              "      <td>0.360085</td>\n",
              "      <td>0.887400</td>\n",
              "      <td>00:40</td>\n",
              "    </tr>\n",
              "    <tr>\n",
              "      <td>2</td>\n",
              "      <td>0.102429</td>\n",
              "      <td>0.121025</td>\n",
              "      <td>0.963900</td>\n",
              "      <td>00:41</td>\n",
              "    </tr>\n",
              "    <tr>\n",
              "      <td>3</td>\n",
              "      <td>0.081354</td>\n",
              "      <td>0.223016</td>\n",
              "      <td>0.925400</td>\n",
              "      <td>00:40</td>\n",
              "    </tr>\n",
              "    <tr>\n",
              "      <td>4</td>\n",
              "      <td>0.070422</td>\n",
              "      <td>0.047718</td>\n",
              "      <td>0.983900</td>\n",
              "      <td>00:40</td>\n",
              "    </tr>\n",
              "    <tr>\n",
              "      <td>5</td>\n",
              "      <td>0.069199</td>\n",
              "      <td>0.071633</td>\n",
              "      <td>0.978500</td>\n",
              "      <td>00:40</td>\n",
              "    </tr>\n",
              "    <tr>\n",
              "      <td>6</td>\n",
              "      <td>0.062350</td>\n",
              "      <td>0.075784</td>\n",
              "      <td>0.975200</td>\n",
              "      <td>00:40</td>\n",
              "    </tr>\n",
              "    <tr>\n",
              "      <td>7</td>\n",
              "      <td>0.043284</td>\n",
              "      <td>0.028809</td>\n",
              "      <td>0.991500</td>\n",
              "      <td>00:40</td>\n",
              "    </tr>\n",
              "    <tr>\n",
              "      <td>8</td>\n",
              "      <td>0.029941</td>\n",
              "      <td>0.021926</td>\n",
              "      <td>0.992800</td>\n",
              "      <td>00:40</td>\n",
              "    </tr>\n",
              "    <tr>\n",
              "      <td>9</td>\n",
              "      <td>0.028281</td>\n",
              "      <td>0.018189</td>\n",
              "      <td>0.994400</td>\n",
              "      <td>00:40</td>\n",
              "    </tr>\n",
              "    <tr>\n",
              "      <td>10</td>\n",
              "      <td>0.021332</td>\n",
              "      <td>0.015267</td>\n",
              "      <td>0.995500</td>\n",
              "      <td>00:40</td>\n",
              "    </tr>\n",
              "    <tr>\n",
              "      <td>11</td>\n",
              "      <td>0.022365</td>\n",
              "      <td>0.015511</td>\n",
              "      <td>0.995100</td>\n",
              "      <td>00:41</td>\n",
              "    </tr>\n",
              "  </tbody>\n",
              "</table>"
            ],
            "text/plain": [
              "<IPython.core.display.HTML object>"
            ]
          },
          "metadata": {
            "tags": []
          }
        }
      ]
    },
    {
      "cell_type": "code",
      "metadata": {
        "id": "n1liubw_9jZ6",
        "colab_type": "code",
        "outputId": "5ecd65aa-9b19-4ac0-d423-036bdb587fcb",
        "colab": {
          "base_uri": "https://localhost:8080/",
          "height": 1000
        }
      },
      "source": [
        "learn.summary()"
      ],
      "execution_count": 0,
      "outputs": [
        {
          "output_type": "execute_result",
          "data": {
            "text/plain": [
              "Sequential\n",
              "======================================================================\n",
              "Layer (type)         Output Shape         Param #    Trainable \n",
              "======================================================================\n",
              "Conv2d               [8, 14, 14]          72         True      \n",
              "______________________________________________________________________\n",
              "ReLU                 [8, 14, 14]          0          False     \n",
              "______________________________________________________________________\n",
              "BatchNorm2d          [8, 14, 14]          16         True      \n",
              "______________________________________________________________________\n",
              "Conv2d               [8, 14, 14]          576        True      \n",
              "______________________________________________________________________\n",
              "ReLU                 [8, 14, 14]          0          False     \n",
              "______________________________________________________________________\n",
              "BatchNorm2d          [8, 14, 14]          16         True      \n",
              "______________________________________________________________________\n",
              "Conv2d               [8, 14, 14]          576        True      \n",
              "______________________________________________________________________\n",
              "ReLU                 [8, 14, 14]          0          False     \n",
              "______________________________________________________________________\n",
              "BatchNorm2d          [8, 14, 14]          16         True      \n",
              "______________________________________________________________________\n",
              "MergeLayer           [8, 14, 14]          0          False     \n",
              "______________________________________________________________________\n",
              "Conv2d               [16, 7, 7]           1,152      True      \n",
              "______________________________________________________________________\n",
              "ReLU                 [16, 7, 7]           0          False     \n",
              "______________________________________________________________________\n",
              "BatchNorm2d          [16, 7, 7]           32         True      \n",
              "______________________________________________________________________\n",
              "Conv2d               [16, 7, 7]           2,304      True      \n",
              "______________________________________________________________________\n",
              "ReLU                 [16, 7, 7]           0          False     \n",
              "______________________________________________________________________\n",
              "BatchNorm2d          [16, 7, 7]           32         True      \n",
              "______________________________________________________________________\n",
              "Conv2d               [16, 7, 7]           2,304      True      \n",
              "______________________________________________________________________\n",
              "ReLU                 [16, 7, 7]           0          False     \n",
              "______________________________________________________________________\n",
              "BatchNorm2d          [16, 7, 7]           32         True      \n",
              "______________________________________________________________________\n",
              "MergeLayer           [16, 7, 7]           0          False     \n",
              "______________________________________________________________________\n",
              "Conv2d               [32, 4, 4]           4,608      True      \n",
              "______________________________________________________________________\n",
              "ReLU                 [32, 4, 4]           0          False     \n",
              "______________________________________________________________________\n",
              "BatchNorm2d          [32, 4, 4]           64         True      \n",
              "______________________________________________________________________\n",
              "Conv2d               [32, 4, 4]           9,216      True      \n",
              "______________________________________________________________________\n",
              "ReLU                 [32, 4, 4]           0          False     \n",
              "______________________________________________________________________\n",
              "BatchNorm2d          [32, 4, 4]           64         True      \n",
              "______________________________________________________________________\n",
              "Conv2d               [32, 4, 4]           9,216      True      \n",
              "______________________________________________________________________\n",
              "ReLU                 [32, 4, 4]           0          False     \n",
              "______________________________________________________________________\n",
              "BatchNorm2d          [32, 4, 4]           64         True      \n",
              "______________________________________________________________________\n",
              "MergeLayer           [32, 4, 4]           0          False     \n",
              "______________________________________________________________________\n",
              "Conv2d               [16, 2, 2]           4,608      True      \n",
              "______________________________________________________________________\n",
              "ReLU                 [16, 2, 2]           0          False     \n",
              "______________________________________________________________________\n",
              "BatchNorm2d          [16, 2, 2]           32         True      \n",
              "______________________________________________________________________\n",
              "Conv2d               [16, 2, 2]           2,304      True      \n",
              "______________________________________________________________________\n",
              "ReLU                 [16, 2, 2]           0          False     \n",
              "______________________________________________________________________\n",
              "BatchNorm2d          [16, 2, 2]           32         True      \n",
              "______________________________________________________________________\n",
              "Conv2d               [16, 2, 2]           2,304      True      \n",
              "______________________________________________________________________\n",
              "ReLU                 [16, 2, 2]           0          False     \n",
              "______________________________________________________________________\n",
              "BatchNorm2d          [16, 2, 2]           32         True      \n",
              "______________________________________________________________________\n",
              "MergeLayer           [16, 2, 2]           0          False     \n",
              "______________________________________________________________________\n",
              "Conv2d               [10, 1, 1]           1,440      True      \n",
              "______________________________________________________________________\n",
              "ReLU                 [10, 1, 1]           0          False     \n",
              "______________________________________________________________________\n",
              "BatchNorm2d          [10, 1, 1]           20         True      \n",
              "______________________________________________________________________\n",
              "Flatten              [10]                 0          False     \n",
              "______________________________________________________________________\n",
              "\n",
              "Total params: 41,132\n",
              "Total trainable params: 41,132\n",
              "Total non-trainable params: 0\n",
              "Optimized with 'torch.optim.adam.Adam', betas=(0.9, 0.99)\n",
              "Using true weight decay as discussed in https://www.fast.ai/2018/07/02/adam-weight-decay/ \n",
              "Loss function : CrossEntropyLoss\n",
              "======================================================================\n",
              "Callbacks functions applied "
            ]
          },
          "metadata": {
            "tags": []
          },
          "execution_count": 71
        }
      ]
    },
    {
      "cell_type": "code",
      "metadata": {
        "id": "wE37ShkR_hsd",
        "colab_type": "code",
        "colab": {}
      },
      "source": [
        ""
      ],
      "execution_count": 0,
      "outputs": []
    }
  ]
}